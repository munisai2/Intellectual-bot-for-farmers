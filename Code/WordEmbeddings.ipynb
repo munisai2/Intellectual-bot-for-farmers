{
  "nbformat": 4,
  "nbformat_minor": 0,
  "metadata": {
    "colab": {
      "provenance": []
    },
    "kernelspec": {
      "name": "python3",
      "display_name": "Python 3"
    },
    "language_info": {
      "name": "python"
    }
  },
  "cells": [
    {
      "cell_type": "code",
      "execution_count": 1,
      "metadata": {
        "id": "1cwGtm5saXxl"
      },
      "outputs": [],
      "source": [
        "import pandas as pd\n",
        "import numpy as np\n",
        "from gensim.models import Word2Vec"
      ]
    },
    {
      "cell_type": "code",
      "source": [
        "data = pd.read_csv('/content/drive/MyDrive/NLP/querydataset.csv')"
      ],
      "metadata": {
        "id": "KrJWdFY-a8fc"
      },
      "execution_count": 2,
      "outputs": []
    },
    {
      "cell_type": "code",
      "source": [
        "texts = [query.lower().split() for query in data['Query']]"
      ],
      "metadata": {
        "id": "A_ODoY_yh_Ou"
      },
      "execution_count": 3,
      "outputs": []
    },
    {
      "cell_type": "code",
      "source": [
        "model = Word2Vec(texts, vector_size=100, window=6, min_count=1, workers=4)"
      ],
      "metadata": {
        "id": "deTRH9CgjXbg"
      },
      "execution_count": 4,
      "outputs": []
    },
    {
      "cell_type": "code",
      "source": [
        "def get_most_similar_answer(query):\n",
        "    query_words = query.lower().split()  \n",
        "    query_vec = np.mean([model.wv[word] for word in query_words if word in model.wv], axis=0)  # Get the average vector representation of the query words\n",
        "    # Cosine Similarity\n",
        "    similarities = [model.wv.n_similarity(query_words, text) for text in texts]\n",
        "    most_similar_idx = np.argmax(similarities)\n",
        "    return data['Answer'][most_similar_idx]"
      ],
      "metadata": {
        "id": "M1YqvUc3Hvmy"
      },
      "execution_count": 5,
      "outputs": []
    },
    {
      "cell_type": "code",
      "source": [
        "query = \"Give me some of the inventive farming techniques\"\n",
        "answer = get_most_similar_answer(query)\n",
        "print(answer)"
      ],
      "metadata": {
        "colab": {
          "base_uri": "https://localhost:8080/"
        },
        "id": "bpY38T07k1XJ",
        "outputId": "6ef2705e-9476-4be1-9fc3-e7ea53034a60"
      },
      "execution_count": 6,
      "outputs": [
        {
          "output_type": "stream",
          "name": "stdout",
          "text": [
            "  Some innovative rice farming techniques being used in Ratnagiri include precision farming / drone-based crop monitoring and the use of mobile apps for farm management.\n"
          ]
        }
      ]
    },
    {
      "cell_type": "code",
      "source": [
        "#query = \"Contribution of farming rice to the local economy of Ratnagiri\""
      ],
      "metadata": {
        "id": "yBYrHUoQDpLs"
      },
      "execution_count": null,
      "outputs": []
    }
  ]
}